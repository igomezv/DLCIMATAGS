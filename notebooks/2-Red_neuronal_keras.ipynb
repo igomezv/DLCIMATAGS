{
 "cells": [
  {
   "cell_type": "markdown",
   "metadata": {},
   "source": [
    "# Red neuronal con diferentes funciones de activacion y propagación de errores hacia atrás (backpropagation)\n",
    "\n",
    "### Tipos de funciones de activación:\n",
    "Fuente: https://mlfromscratch.com/activation-functions-explained/#/\n",
    "![title](https://mlfromscratch.com/content/images/2019/12/activation-functions.gif)\n",
    "\n",
    "\n",
    "### Descenso del gradiente (intuición)\n",
    "\n",
    "- La deducción no es propósito de esta notebook, pero cada nuevo paso en busca de la minimización de la función de costo, obedece la siguiente regla:\n",
    "\n",
    "$ v -> v' = v - \\eta \\nabla C$, donde $v$ es $f(w, b)$ y $\\eta$ la tasa de aprendizaje (tamaño de paso, learning rate)\n",
    "\n",
    "- Se da un paso en dirección opuesta al gradiente hasta minimizar la función de costo.\n",
    "\n",
    "- Se le llama *backpropagation* al algoritmo que realiza esto iterativamente desde la última capa hasta la primera.\n",
    "\n",
    "Fuente: https://kevinbinz.com/2019/05/26/intro-gradient-descent/\n",
    "\n",
    "![title](https://kevinbinz.files.wordpress.com/2019/05/dualspace_explore.gif)\n",
    "\n",
    "- Se quiere encontrar (x,y) tal que sea un mínimo en la superficie (función de costo).\n",
    "\n",
    "Fuente: https://towardsdatascience.com/a-visual-explanation-of-gradient-descent-methods-momentum-adagrad-rmsprop-adam-f898b102325c\n",
    "\n",
    "![title](https://miro.medium.com/max/819/1*hUd744hDEEGx0-ypWGhrkw.gif)\n",
    "\n",
    "\n",
    "![title](https://raw.githubusercontent.com/igomezv/MACS_2021_ML_basics_neural_networks/main/figures/approxTheorem.png)\n"
   ]
  },
  {
   "cell_type": "markdown",
   "metadata": {},
   "source": [
    "\n",
    "# Algunos tipos de redes neuronales\n",
    "Fuente: https://www.asimovinstitute.org/neural-network-zoo/\n",
    "<div>\n",
    "    <img src=\"https://www.asimovinstitute.org/wp-content/uploads/2019/04/NeuralNetworkZoo20042019.png\", width=\"500\">\n",
    "</div>\n",
    "\n",
    "## 1. Construyamos una red neuronal configurable con keras"
   ]
  },
  {
   "cell_type": "code",
   "execution_count": 1,
   "metadata": {},
   "outputs": [
    {
     "name": "stderr",
     "output_type": "stream",
     "text": [
      "2022-01-24 03:36:43.693453: W tensorflow/stream_executor/platform/default/dso_loader.cc:64] Could not load dynamic library 'libcudart.so.11.0'; dlerror: libcudart.so.11.0: cannot open shared object file: No such file or directory\n",
      "2022-01-24 03:36:43.693468: I tensorflow/stream_executor/cuda/cudart_stub.cc:29] Ignore above cudart dlerror if you do not have a GPU set up on your machine.\n"
     ]
    }
   ],
   "source": [
    "import tensorflow.keras as K\n",
    "import numpy as np\n",
    "import matplotlib.pyplot as plt\n",
    "from sklearn.preprocessing import StandardScaler\n",
    "import pandas as pd\n",
    "import seaborn as sns\n",
    "from sklearn.preprocessing import OneHotEncoder"
   ]
  },
  {
   "cell_type": "code",
   "execution_count": 2,
   "metadata": {},
   "outputs": [],
   "source": [
    "class neural_net:\n",
    "    def __init__(self, X, Y, topology, epochs=50, lr=0.0001, bs=4, early_tol=100, scale=False):\n",
    "        self.topology = topology\n",
    "        self.epochs = epochs\n",
    "        self.lr = lr\n",
    "        self.bs = bs\n",
    "        self.early_tol = early_tol\n",
    "        self.scale = scale\n",
    "        \n",
    "        ntrain = int(0.8* len(X))\n",
    "        indx = [ntrain]\n",
    "        self.X_train, self.X_test = np.split(X, indx)\n",
    "        self.Y_train, self.Y_test = np.split(Y, indx)\n",
    "        \n",
    "        if self.scale:\n",
    "            self.scaler = StandardScaler()\n",
    "            try:\n",
    "                self.scaler.fit(X)\n",
    "                self.X_train = self.scaler.transform(self.X_train)\n",
    "                self.X_test = self.scaler.transform(self.X_test)\n",
    "            except:\n",
    "                self.scaler.fit(X.reshape(-1,1))\n",
    "                self.X_train = self.scaler.transform(self.X_train.reshape(-1,1))\n",
    "                self.X_test = self.scaler.transform(self.X_test.reshape(-1,1))\n",
    "\n",
    "            self.X_train = self.scaler.transform(self.X_train)\n",
    "            self.X_test = self.scaler.transform(self.X_test)\n",
    "        \n",
    "        self.model = self.model()\n",
    "        self.model.summary()\n",
    "        \n",
    "    def model(self):\n",
    "        # Red neuronal\n",
    "        model = K.models.Sequential()\n",
    "        # Hidden layers\n",
    "\n",
    "        for i, nodes in enumerate(self.topology):\n",
    "            if i == 0:\n",
    "                model.add(K.layers.Dense(self.topology[1], input_dim=self.topology[0], activation='relu'))\n",
    "            elif i < len(self.topology)-2:\n",
    "                model.add(K.layers.Dense(self.topology[i+1], activation='relu'))\n",
    "            else:\n",
    "                model.add(K.layers.Dense(self.topology[i], activation='linear'))\n",
    "        optimizer = K.optimizers.Adam(learning_rate=0.0001)\n",
    "        model.compile(optimizer=optimizer, loss='mean_squared_error')\n",
    "        \n",
    "        return model                    \n",
    "    \n",
    "    def train(self):\n",
    "        callbacks = [K.callbacks.EarlyStopping(monitor='val_loss', mode='min',\n",
    "                                               min_delta=0.0,\n",
    "                                               patience=self.early_tol,\n",
    "                                               restore_best_weights=True)]\n",
    "        print(\"Entrenando, por favor, espera...\")\n",
    "        self.history = self.model.fit(self.X_train,\n",
    "                                      self.Y_train,\n",
    "                                      validation_data=(self.X_test,\n",
    "                                                       self.Y_test),\n",
    "                                      epochs=self.epochs, batch_size=self.bs,\n",
    "                                      callbacks=callbacks, verbose=0)\n",
    "        print(\"¡Entrenamiento terminado!\")\n",
    "        return self.history\n",
    "    \n",
    "    def get_w_and_b(self, nlayer):\n",
    "        weights, biases = self.model.layers[nlayer].get_weights()\n",
    "        return weights, biases\n",
    "    \n",
    "    def predict(self, x):\n",
    "        if type(x) == type([1]):\n",
    "            x = np.array(x)\n",
    "        if type(x) == type(1):\n",
    "            x = np.array([x])\n",
    "        if self.scale:\n",
    "            try:\n",
    "                x = self.scaler.transform(x)\n",
    "            except:\n",
    "                x = self.scaler.transform(x.reshape(-1,1))\n",
    "        return self.model.predict(x)\n",
    "        \n",
    "    def plot(self):\n",
    "        plt.plot(self.history.history['loss'], label='training set')\n",
    "        plt.plot(self.history.history['val_loss'], label='validation set')\n",
    "        mse = np.min(self.history.history['val_loss'])\n",
    "        plt.title('MSE: {} Uncertainty: {}'.format(mse, np.sqrt(mse)))\n",
    "        plt.ylabel('loss function')\n",
    "        plt.xlabel('epoch')\n",
    "        plt.legend(['train', 'val'], loc='upper left')\n",
    "        plt.show()\n",
    "        "
   ]
  },
  {
   "cell_type": "markdown",
   "metadata": {},
   "source": [
    "## Ejemplos numéricos\n",
    "\n",
    "### Ejemplo 1: Aprendiendo funciones\n",
    "\n",
    "#### Analicemos si una red neuronal puede aprender las siguientes tres funciones:\n",
    "\n",
    "* $line(x) = 2x+3$\n",
    "* $quadratic(x) = x^2 +2$\n",
    "* $quadtres(x_1,x_2,x_3) = x_1^2 + 2x_2 + x_3$"
   ]
  },
  {
   "cell_type": "code",
   "execution_count": 3,
   "metadata": {},
   "outputs": [],
   "source": [
    "def line(x):\n",
    "    return 2*x + 3 + 0.05 * np.random.rand()\n",
    "\n",
    "def quadratic(x):\n",
    "    return x**2 + 2 + 0.001 * np.random.rand()\n",
    "\n",
    "def quadtres(x):\n",
    "    y = np.zeros(len(x))\n",
    "    for i in range(len(x)):\n",
    "        y[i] = x[i, 0]**2 + 2*x[i, 1] + x[i, 2]\n",
    "    return y"
   ]
  },
  {
   "cell_type": "code",
   "execution_count": 4,
   "metadata": {},
   "outputs": [
    {
     "data": {
      "text/html": [
       "<div>\n",
       "<style scoped>\n",
       "    .dataframe tbody tr th:only-of-type {\n",
       "        vertical-align: middle;\n",
       "    }\n",
       "\n",
       "    .dataframe tbody tr th {\n",
       "        vertical-align: top;\n",
       "    }\n",
       "\n",
       "    .dataframe thead th {\n",
       "        text-align: right;\n",
       "    }\n",
       "</style>\n",
       "<table border=\"1\" class=\"dataframe\">\n",
       "  <thead>\n",
       "    <tr style=\"text-align: right;\">\n",
       "      <th></th>\n",
       "      <th>x</th>\n",
       "      <th>y</th>\n",
       "    </tr>\n",
       "  </thead>\n",
       "  <tbody>\n",
       "    <tr>\n",
       "      <th>0</th>\n",
       "      <td>0.844595</td>\n",
       "      <td>2.713846</td>\n",
       "    </tr>\n",
       "    <tr>\n",
       "      <th>1</th>\n",
       "      <td>0.976267</td>\n",
       "      <td>2.953603</td>\n",
       "    </tr>\n",
       "    <tr>\n",
       "      <th>2</th>\n",
       "      <td>0.120476</td>\n",
       "      <td>2.015020</td>\n",
       "    </tr>\n",
       "    <tr>\n",
       "      <th>3</th>\n",
       "      <td>0.034705</td>\n",
       "      <td>2.001710</td>\n",
       "    </tr>\n",
       "    <tr>\n",
       "      <th>4</th>\n",
       "      <td>0.254310</td>\n",
       "      <td>2.065179</td>\n",
       "    </tr>\n",
       "    <tr>\n",
       "      <th>5</th>\n",
       "      <td>0.539943</td>\n",
       "      <td>2.292044</td>\n",
       "    </tr>\n",
       "    <tr>\n",
       "      <th>6</th>\n",
       "      <td>0.360022</td>\n",
       "      <td>2.130121</td>\n",
       "    </tr>\n",
       "    <tr>\n",
       "      <th>7</th>\n",
       "      <td>0.086549</td>\n",
       "      <td>2.007996</td>\n",
       "    </tr>\n",
       "    <tr>\n",
       "      <th>8</th>\n",
       "      <td>0.815904</td>\n",
       "      <td>2.666205</td>\n",
       "    </tr>\n",
       "    <tr>\n",
       "      <th>9</th>\n",
       "      <td>0.772596</td>\n",
       "      <td>2.597409</td>\n",
       "    </tr>\n",
       "  </tbody>\n",
       "</table>\n",
       "</div>"
      ],
      "text/plain": [
       "          x         y\n",
       "0  0.844595  2.713846\n",
       "1  0.976267  2.953603\n",
       "2  0.120476  2.015020\n",
       "3  0.034705  2.001710\n",
       "4  0.254310  2.065179\n",
       "5  0.539943  2.292044\n",
       "6  0.360022  2.130121\n",
       "7  0.086549  2.007996\n",
       "8  0.815904  2.666205\n",
       "9  0.772596  2.597409"
      ]
     },
     "execution_count": 4,
     "metadata": {},
     "output_type": "execute_result"
    }
   ],
   "source": [
    "# Descomentar función para generar datos\n",
    "# fn = line\n",
    "fn = quadratic\n",
    "# fn = quadtres\n",
    "\n",
    "# Seleccionar número de puntos para el dataset\n",
    "npoints = 100\n",
    "\n",
    "# Generar X\n",
    "## para line y quadratic\n",
    "X = np.random.rand(npoints)\n",
    "## para quadtres\n",
    "# X = np.random.rand(npoints, 3)\n",
    "\n",
    "# Generar Y\n",
    "Y = fn(X)\n",
    "\n",
    "# Ver tabla de datos\n",
    "## para line y quadratic\n",
    "data =pd.DataFrame(zip(X,Y), columns=['x', 'y'])\n",
    "## para quadtres\n",
    "# data =pd.DataFrame(zip(X[:,0], X[:,1], X[:,2], Y), columns=['$x_1$', '$x_2$', '$x_3$', 'y'])\n",
    "data.head(10)"
   ]
  },
  {
   "cell_type": "code",
   "execution_count": 5,
   "metadata": {},
   "outputs": [
    {
     "name": "stdout",
     "output_type": "stream",
     "text": [
      "Model: \"sequential\"\n",
      "_________________________________________________________________\n",
      "Layer (type)                 Output Shape              Param #   \n",
      "=================================================================\n",
      "dense (Dense)                (None, 100)               200       \n",
      "_________________________________________________________________\n",
      "dense_1 (Dense)              (None, 100)               10100     \n",
      "_________________________________________________________________\n",
      "dense_2 (Dense)              (None, 100)               10100     \n",
      "_________________________________________________________________\n",
      "dense_3 (Dense)              (None, 1)                 101       \n",
      "=================================================================\n",
      "Total params: 20,501\n",
      "Trainable params: 20,501\n",
      "Non-trainable params: 0\n",
      "_________________________________________________________________\n"
     ]
    },
    {
     "name": "stderr",
     "output_type": "stream",
     "text": [
      "2022-01-24 03:36:45.198794: W tensorflow/stream_executor/platform/default/dso_loader.cc:64] Could not load dynamic library 'libcuda.so.1'; dlerror: libcuda.so.1: cannot open shared object file: No such file or directory\n",
      "2022-01-24 03:36:45.198850: W tensorflow/stream_executor/cuda/cuda_driver.cc:269] failed call to cuInit: UNKNOWN ERROR (303)\n",
      "2022-01-24 03:36:45.198897: I tensorflow/stream_executor/cuda/cuda_diagnostics.cc:156] kernel driver does not appear to be running on this host (isidro-pc): /proc/driver/nvidia/version does not exist\n",
      "2022-01-24 03:36:45.199374: I tensorflow/core/platform/cpu_feature_guard.cc:142] This TensorFlow binary is optimized with oneAPI Deep Neural Network Library (oneDNN) to use the following CPU instructions in performance-critical operations:  AVX2 FMA\n",
      "To enable them in other operations, rebuild TensorFlow with the appropriate compiler flags.\n"
     ]
    }
   ],
   "source": [
    "network = neural_net(X, Y, [1, 100, 100, 1], epochs=100, bs=16, lr=0.01, scale=True)"
   ]
  },
  {
   "cell_type": "code",
   "execution_count": 6,
   "metadata": {},
   "outputs": [
    {
     "name": "stderr",
     "output_type": "stream",
     "text": [
      "2022-01-24 03:36:45.269725: I tensorflow/compiler/mlir/mlir_graph_optimization_pass.cc:185] None of the MLIR Optimization Passes are enabled (registered 2)\n"
     ]
    },
    {
     "name": "stdout",
     "output_type": "stream",
     "text": [
      "Entrenando, por favor, espera...\n",
      "¡Entrenamiento terminado!\n"
     ]
    },
    {
     "data": {
      "text/plain": [
       "<keras.callbacks.History at 0x7feaf03ecc40>"
      ]
     },
     "execution_count": 6,
     "metadata": {},
     "output_type": "execute_result"
    }
   ],
   "source": [
    "network.train()"
   ]
  },
  {
   "cell_type": "code",
   "execution_count": 7,
   "metadata": {},
   "outputs": [
    {
     "name": "stdout",
     "output_type": "stream",
     "text": [
      "1 100\n",
      "[[ 0.15434723 -0.04056934  0.22401066 -0.23075496 -0.06595625  0.22547339\n",
      "  -0.16974019 -0.200212   -0.03611211 -0.09699833  0.09689888 -0.00224968\n",
      "   0.02405898 -0.2396817  -0.08303833  0.12547566 -0.16778049 -0.23750146\n",
      "  -0.10772877  0.1257265  -0.14537267 -0.2381867  -0.23643664 -0.15737899\n",
      "   0.15920667 -0.00171809 -0.20358844  0.05513354  0.04565416  0.09569887\n",
      "  -0.21888138 -0.01753356  0.17033063  0.17649071 -0.0822527   0.15688382\n",
      "  -0.1969931  -0.08816835 -0.17391463 -0.1922135   0.14975178 -0.07528158\n",
      "   0.19764487  0.05568675  0.15603703 -0.06408523  0.23539686  0.21161081\n",
      "  -0.2420388  -0.01011179 -0.16524582 -0.18133016  0.2207967  -0.14856745\n",
      "  -0.11598852 -0.23573598 -0.03818505 -0.01988162  0.21697645  0.01286681\n",
      "   0.01678779 -0.04499701 -0.10224554 -0.2245193   0.08555856 -0.17432092\n",
      "   0.00139552 -0.13968006  0.17917064 -0.01492966 -0.16819301  0.18349268\n",
      "  -0.08645174 -0.14032759 -0.19132198  0.23897499 -0.09587091 -0.08797358\n",
      "  -0.01938431 -0.06167657 -0.0441363  -0.14542499 -0.02257444 -0.0721542\n",
      "   0.16318604 -0.10697019 -0.05487246  0.23012969 -0.17103153 -0.23762907\n",
      "  -0.01670706  0.23640321  0.04360767  0.09409688 -0.21881613  0.21264796\n",
      "  -0.13541757  0.20052977 -0.21044274 -0.11335117]]\n"
     ]
    }
   ],
   "source": [
    "w, b = network.get_w_and_b(nlayer=0)\n",
    "print(len(w), len(b))\n",
    "print(w)"
   ]
  },
  {
   "cell_type": "code",
   "execution_count": 8,
   "metadata": {},
   "outputs": [
    {
     "data": {
      "image/png": "[encoded data removed]",
      "text/plain": [
       "<Figure size 432x288 with 1 Axes>"
      ]
     },
     "metadata": {
      "needs_background": "light"
     },
     "output_type": "display_data"
    }
   ],
   "source": [
    "network.plot()"
   ]
  },
  {
   "cell_type": "code",
   "execution_count": 9,
   "metadata": {},
   "outputs": [
    {
     "name": "stdout",
     "output_type": "stream",
     "text": [
      "Valor real: 2.490780593671905\n",
      "Predicción: 2.1072676181793213\n"
     ]
    }
   ],
   "source": [
    "# new_vector = np.array([0.7, 0.5, 0.6]).reshape(1,3)\n",
    "new_vector = np.array([0.7])\n",
    "prediction = network.predict(new_vector)\n",
    "\n",
    "\n",
    "print(\"Valor real: {}\".format(float(fn(new_vector))))\n",
    "print(\"Predicción: {}\".format(float(prediction)))"
   ]
  },
  {
   "cell_type": "markdown",
   "metadata": {},
   "source": [
    "# Clasificación con el conjunto iris"
   ]
  },
  {
   "cell_type": "code",
   "execution_count": 10,
   "metadata": {},
   "outputs": [
    {
     "data": {
      "text/html": [
       "<div>\n",
       "<style scoped>\n",
       "    .dataframe tbody tr th:only-of-type {\n",
       "        vertical-align: middle;\n",
       "    }\n",
       "\n",
       "    .dataframe tbody tr th {\n",
       "        vertical-align: top;\n",
       "    }\n",
       "\n",
       "    .dataframe thead th {\n",
       "        text-align: right;\n",
       "    }\n",
       "</style>\n",
       "<table border=\"1\" class=\"dataframe\">\n",
       "  <thead>\n",
       "    <tr style=\"text-align: right;\">\n",
       "      <th></th>\n",
       "      <th>sepallength</th>\n",
       "      <th>sepalwidth</th>\n",
       "      <th>petallength</th>\n",
       "      <th>petalwidth</th>\n",
       "      <th>class</th>\n",
       "    </tr>\n",
       "  </thead>\n",
       "  <tbody>\n",
       "    <tr>\n",
       "      <th>0</th>\n",
       "      <td>5.1</td>\n",
       "      <td>3.5</td>\n",
       "      <td>1.4</td>\n",
       "      <td>0.2</td>\n",
       "      <td>Iris-setosa</td>\n",
       "    </tr>\n",
       "    <tr>\n",
       "      <th>1</th>\n",
       "      <td>4.9</td>\n",
       "      <td>3.0</td>\n",
       "      <td>1.4</td>\n",
       "      <td>0.2</td>\n",
       "      <td>Iris-setosa</td>\n",
       "    </tr>\n",
       "    <tr>\n",
       "      <th>2</th>\n",
       "      <td>4.7</td>\n",
       "      <td>3.2</td>\n",
       "      <td>1.3</td>\n",
       "      <td>0.2</td>\n",
       "      <td>Iris-setosa</td>\n",
       "    </tr>\n",
       "    <tr>\n",
       "      <th>3</th>\n",
       "      <td>4.6</td>\n",
       "      <td>3.1</td>\n",
       "      <td>1.5</td>\n",
       "      <td>0.2</td>\n",
       "      <td>Iris-setosa</td>\n",
       "    </tr>\n",
       "    <tr>\n",
       "      <th>4</th>\n",
       "      <td>5.0</td>\n",
       "      <td>3.6</td>\n",
       "      <td>1.4</td>\n",
       "      <td>0.2</td>\n",
       "      <td>Iris-setosa</td>\n",
       "    </tr>\n",
       "  </tbody>\n",
       "</table>\n",
       "</div>"
      ],
      "text/plain": [
       "   sepallength  sepalwidth  petallength  petalwidth        class\n",
       "0          5.1         3.5          1.4         0.2  Iris-setosa\n",
       "1          4.9         3.0          1.4         0.2  Iris-setosa\n",
       "2          4.7         3.2          1.3         0.2  Iris-setosa\n",
       "3          4.6         3.1          1.5         0.2  Iris-setosa\n",
       "4          5.0         3.6          1.4         0.2  Iris-setosa"
      ]
     },
     "execution_count": 10,
     "metadata": {},
     "output_type": "execute_result"
    }
   ],
   "source": [
    "data_iris = pd.read_csv('https://raw.githubusercontent.com/igomezv/DLCIMATAGS/main/data/iris/iris.data')\n",
    "data_iris.head()"
   ]
  },
  {
   "cell_type": "markdown",
   "metadata": {},
   "source": [
    "## Preprocesamiento"
   ]
  },
  {
   "cell_type": "code",
   "execution_count": 11,
   "metadata": {},
   "outputs": [
    {
     "data": {
      "text/html": [
       "<div>\n",
       "<style scoped>\n",
       "    .dataframe tbody tr th:only-of-type {\n",
       "        vertical-align: middle;\n",
       "    }\n",
       "\n",
       "    .dataframe tbody tr th {\n",
       "        vertical-align: top;\n",
       "    }\n",
       "\n",
       "    .dataframe thead th {\n",
       "        text-align: right;\n",
       "    }\n",
       "</style>\n",
       "<table border=\"1\" class=\"dataframe\">\n",
       "  <thead>\n",
       "    <tr style=\"text-align: right;\">\n",
       "      <th></th>\n",
       "      <th>sepallength</th>\n",
       "      <th>sepalwidth</th>\n",
       "      <th>petallength</th>\n",
       "      <th>petalwidth</th>\n",
       "      <th>class</th>\n",
       "      <th>class_num</th>\n",
       "    </tr>\n",
       "  </thead>\n",
       "  <tbody>\n",
       "    <tr>\n",
       "      <th>0</th>\n",
       "      <td>5.1</td>\n",
       "      <td>3.5</td>\n",
       "      <td>1.4</td>\n",
       "      <td>0.2</td>\n",
       "      <td>Iris-setosa</td>\n",
       "      <td>0</td>\n",
       "    </tr>\n",
       "    <tr>\n",
       "      <th>1</th>\n",
       "      <td>4.9</td>\n",
       "      <td>3.0</td>\n",
       "      <td>1.4</td>\n",
       "      <td>0.2</td>\n",
       "      <td>Iris-setosa</td>\n",
       "      <td>0</td>\n",
       "    </tr>\n",
       "    <tr>\n",
       "      <th>2</th>\n",
       "      <td>4.7</td>\n",
       "      <td>3.2</td>\n",
       "      <td>1.3</td>\n",
       "      <td>0.2</td>\n",
       "      <td>Iris-setosa</td>\n",
       "      <td>0</td>\n",
       "    </tr>\n",
       "    <tr>\n",
       "      <th>3</th>\n",
       "      <td>4.6</td>\n",
       "      <td>3.1</td>\n",
       "      <td>1.5</td>\n",
       "      <td>0.2</td>\n",
       "      <td>Iris-setosa</td>\n",
       "      <td>0</td>\n",
       "    </tr>\n",
       "    <tr>\n",
       "      <th>4</th>\n",
       "      <td>5.0</td>\n",
       "      <td>3.6</td>\n",
       "      <td>1.4</td>\n",
       "      <td>0.2</td>\n",
       "      <td>Iris-setosa</td>\n",
       "      <td>0</td>\n",
       "    </tr>\n",
       "    <tr>\n",
       "      <th>...</th>\n",
       "      <td>...</td>\n",
       "      <td>...</td>\n",
       "      <td>...</td>\n",
       "      <td>...</td>\n",
       "      <td>...</td>\n",
       "      <td>...</td>\n",
       "    </tr>\n",
       "    <tr>\n",
       "      <th>145</th>\n",
       "      <td>6.7</td>\n",
       "      <td>3.0</td>\n",
       "      <td>5.2</td>\n",
       "      <td>2.3</td>\n",
       "      <td>Iris-virginica</td>\n",
       "      <td>2</td>\n",
       "    </tr>\n",
       "    <tr>\n",
       "      <th>146</th>\n",
       "      <td>6.3</td>\n",
       "      <td>2.5</td>\n",
       "      <td>5.0</td>\n",
       "      <td>1.9</td>\n",
       "      <td>Iris-virginica</td>\n",
       "      <td>2</td>\n",
       "    </tr>\n",
       "    <tr>\n",
       "      <th>147</th>\n",
       "      <td>6.5</td>\n",
       "      <td>3.0</td>\n",
       "      <td>5.2</td>\n",
       "      <td>2.0</td>\n",
       "      <td>Iris-virginica</td>\n",
       "      <td>2</td>\n",
       "    </tr>\n",
       "    <tr>\n",
       "      <th>148</th>\n",
       "      <td>6.2</td>\n",
       "      <td>3.4</td>\n",
       "      <td>5.4</td>\n",
       "      <td>2.3</td>\n",
       "      <td>Iris-virginica</td>\n",
       "      <td>2</td>\n",
       "    </tr>\n",
       "    <tr>\n",
       "      <th>149</th>\n",
       "      <td>5.9</td>\n",
       "      <td>3.0</td>\n",
       "      <td>5.1</td>\n",
       "      <td>1.8</td>\n",
       "      <td>Iris-virginica</td>\n",
       "      <td>2</td>\n",
       "    </tr>\n",
       "  </tbody>\n",
       "</table>\n",
       "<p>150 rows × 6 columns</p>\n",
       "</div>"
      ],
      "text/plain": [
       "     sepallength  sepalwidth  petallength  petalwidth           class  \\\n",
       "0            5.1         3.5          1.4         0.2     Iris-setosa   \n",
       "1            4.9         3.0          1.4         0.2     Iris-setosa   \n",
       "2            4.7         3.2          1.3         0.2     Iris-setosa   \n",
       "3            4.6         3.1          1.5         0.2     Iris-setosa   \n",
       "4            5.0         3.6          1.4         0.2     Iris-setosa   \n",
       "..           ...         ...          ...         ...             ...   \n",
       "145          6.7         3.0          5.2         2.3  Iris-virginica   \n",
       "146          6.3         2.5          5.0         1.9  Iris-virginica   \n",
       "147          6.5         3.0          5.2         2.0  Iris-virginica   \n",
       "148          6.2         3.4          5.4         2.3  Iris-virginica   \n",
       "149          5.9         3.0          5.1         1.8  Iris-virginica   \n",
       "\n",
       "     class_num  \n",
       "0            0  \n",
       "1            0  \n",
       "2            0  \n",
       "3            0  \n",
       "4            0  \n",
       "..         ...  \n",
       "145          2  \n",
       "146          2  \n",
       "147          2  \n",
       "148          2  \n",
       "149          2  \n",
       "\n",
       "[150 rows x 6 columns]"
      ]
     },
     "execution_count": 11,
     "metadata": {},
     "output_type": "execute_result"
    }
   ],
   "source": [
    "data_iris[\"class\"] = data_iris[\"class\"].astype('category')\n",
    "data_iris[\"class_num\"] = data_iris[\"class\"].cat.codes\n",
    "data_iris"
   ]
  },
  {
   "cell_type": "markdown",
   "metadata": {},
   "source": [
    "### Iris-setosa-> 0, Iris-versicolor -> 1, Iris-virginica->2"
   ]
  },
  {
   "cell_type": "code",
   "execution_count": 12,
   "metadata": {},
   "outputs": [
    {
     "data": {
      "text/plain": [
       "(   sepallength  sepalwidth  petallength  petalwidth\n",
       " 0          5.1         3.5          1.4         0.2\n",
       " 1          4.9         3.0          1.4         0.2\n",
       " 2          4.7         3.2          1.3         0.2\n",
       " 3          4.6         3.1          1.5         0.2\n",
       " 4          5.0         3.6          1.4         0.2,\n",
       " 150)"
      ]
     },
     "execution_count": 12,
     "metadata": {},
     "output_type": "execute_result"
    }
   ],
   "source": [
    "X = data_iris[['sepallength', 'sepalwidth', 'petallength', 'petalwidth']]\n",
    "Y = data_iris[['class_num']]\n",
    "N = len(X)\n",
    "X.head(), N\n"
   ]
  },
  {
   "cell_type": "code",
   "execution_count": 13,
   "metadata": {},
   "outputs": [],
   "source": [
    "# randomize = np.random.permutation(N)\n",
    "# X = X.values[randomize]\n",
    "# Y = Y.values[randomize]\n",
    "# Y\n",
    "X = X.values\n",
    "Y = Y.values"
   ]
  },
  {
   "cell_type": "code",
   "execution_count": 14,
   "metadata": {},
   "outputs": [
    {
     "data": {
      "text/plain": [
       "(150, 150)"
      ]
     },
     "execution_count": 14,
     "metadata": {},
     "output_type": "execute_result"
    }
   ],
   "source": [
    "len(X), len(Y)"
   ]
  },
  {
   "cell_type": "markdown",
   "metadata": {},
   "source": [
    "#### Convertir dataframes a numpy.arrays"
   ]
  },
  {
   "cell_type": "code",
   "execution_count": 15,
   "metadata": {},
   "outputs": [],
   "source": [
    "v0 = int(len(X)*0.8)\n",
    "x0 = X[:v0,:]\n",
    "y0 = Y[:v0]\n",
    "# y = y[:500]\n",
    "# X = X[:500, :]\n",
    "xtest = X[v0:, :]\n",
    "ytest = Y[v0:]\n"
   ]
  },
  {
   "cell_type": "markdown",
   "metadata": {},
   "source": [
    "### Diseñar red neuronal"
   ]
  },
  {
   "cell_type": "code",
   "execution_count": 16,
   "metadata": {},
   "outputs": [
    {
     "name": "stdout",
     "output_type": "stream",
     "text": [
      "Model: \"sequential_1\"\n",
      "_________________________________________________________________\n",
      "Layer (type)                 Output Shape              Param #   \n",
      "=================================================================\n",
      "dense_4 (Dense)              (None, 10)                50        \n",
      "_________________________________________________________________\n",
      "dense_5 (Dense)              (None, 10)                110       \n",
      "_________________________________________________________________\n",
      "dense_6 (Dense)              (None, 10)                110       \n",
      "_________________________________________________________________\n",
      "dense_7 (Dense)              (None, 10)                110       \n",
      "_________________________________________________________________\n",
      "dense_8 (Dense)              (None, 1)                 11        \n",
      "=================================================================\n",
      "Total params: 391\n",
      "Trainable params: 391\n",
      "Non-trainable params: 0\n",
      "_________________________________________________________________\n"
     ]
    }
   ],
   "source": [
    "network = neural_net(x0, y0, topology=[4, 10, 10, 10, 1], lr=1e-5, bs=1, epochs=200)"
   ]
  },
  {
   "cell_type": "markdown",
   "metadata": {},
   "source": [
    "### Entrenar y evaluar rendimiento de la red neuronal"
   ]
  },
  {
   "cell_type": "code",
   "execution_count": 17,
   "metadata": {},
   "outputs": [
    {
     "name": "stdout",
     "output_type": "stream",
     "text": [
      "Entrenando, por favor, espera...\n",
      "¡Entrenamiento terminado!\n"
     ]
    },
    {
     "data": {
      "image/png": "[encoded data removed]",
      "text/plain": [
       "<Figure size 432x288 with 1 Axes>"
      ]
     },
     "metadata": {
      "needs_background": "light"
     },
     "output_type": "display_data"
    }
   ],
   "source": [
    "network.train()\n",
    "network.plot()"
   ]
  },
  {
   "cell_type": "markdown",
   "metadata": {},
   "source": [
    "predicción sencilla"
   ]
  },
  {
   "cell_type": "code",
   "execution_count": 18,
   "metadata": {},
   "outputs": [
    {
     "name": "stdout",
     "output_type": "stream",
     "text": [
      "(1, 4)\n"
     ]
    },
    {
     "data": {
      "text/plain": [
       "array([[-1.]], dtype=float32)"
      ]
     },
     "execution_count": 18,
     "metadata": {},
     "output_type": "execute_result"
    }
   ],
   "source": [
    "test_vector = np.array([2, 9, 1, 1]).reshape(1,4)\n",
    "print(np.shape(test_vector))\n",
    "# galaxy 0, quasar 1, star 2\n",
    "network.predict(test_vector).round()"
   ]
  },
  {
   "cell_type": "markdown",
   "metadata": {},
   "source": [
    "Ahora usemos los datos guardados (test set) para probar las predicciones. Hay diferentes métodos y métricas para hacer esto, sin embargo aquí haremos algo simple. Solo compararemos las predicciones con los valores reales. "
   ]
  },
  {
   "cell_type": "code",
   "execution_count": 19,
   "metadata": {},
   "outputs": [],
   "source": [
    "predictions = np.abs(network.predict(xtest).round())"
   ]
  },
  {
   "cell_type": "code",
   "execution_count": 20,
   "metadata": {
    "scrolled": true
   },
   "outputs": [
    {
     "data": {
      "text/plain": [
       "<matplotlib.legend.Legend at 0x7feae008b640>"
      ]
     },
     "execution_count": 20,
     "metadata": {},
     "output_type": "execute_result"
    },
    {
     "data": {
      "image/png": "[encoded data removed]",
      "text/plain": [
       "<Figure size 432x288 with 1 Axes>"
      ]
     },
     "metadata": {
      "needs_background": "light"
     },
     "output_type": "display_data"
    }
   ],
   "source": [
    "# aciertos = (ytest == predictions)\n",
    "plt.scatter(xtest[:,0], predictions, alpha=0.3, color='green', label='predictions')\n",
    "plt.scatter(xtest[:,0], ytest, alpha=0.3, color='red', label='real values')\n",
    "plt.xlabel('sepal length')\n",
    "plt.ylabel('Category')\n",
    "plt.legend(bbox_to_anchor=(1.0,1.0))"
   ]
  },
  {
   "cell_type": "code",
   "execution_count": 21,
   "metadata": {},
   "outputs": [
    {
     "data": {
      "text/plain": [
       "<matplotlib.legend.Legend at 0x7feae0116e80>"
      ]
     },
     "execution_count": 21,
     "metadata": {},
     "output_type": "execute_result"
    },
    {
     "data": {
      "image/png": "[encoded data removed]",
      "text/plain": [
       "<Figure size 432x288 with 1 Axes>"
      ]
     },
     "metadata": {
      "needs_background": "light"
     },
     "output_type": "display_data"
    }
   ],
   "source": [
    "plt.scatter(xtest[:,1], predictions, alpha=0.3, color='green', label='predictions')\n",
    "plt.scatter(xtest[:,1], ytest, alpha=0.3, color='red', label='real values')\n",
    "plt.xlabel('sepal width')\n",
    "plt.ylabel('Category')\n",
    "plt.legend(bbox_to_anchor=(1.0,1.0))"
   ]
  },
  {
   "cell_type": "code",
   "execution_count": 22,
   "metadata": {},
   "outputs": [
    {
     "data": {
      "text/plain": [
       "<matplotlib.legend.Legend at 0x7feae002c250>"
      ]
     },
     "execution_count": 22,
     "metadata": {},
     "output_type": "execute_result"
    },
    {
     "data": {
      "image/png": "[encoded data removed]",
      "text/plain": [
       "<Figure size 432x288 with 1 Axes>"
      ]
     },
     "metadata": {
      "needs_background": "light"
     },
     "output_type": "display_data"
    }
   ],
   "source": [
    "plt.scatter(xtest[:,2], predictions, alpha=0.3, color='green', label='predictions')\n",
    "plt.scatter(xtest[:,2], ytest, alpha=0.3, color='red', label='real values')\n",
    "plt.xlabel('petal length')\n",
    "plt.ylabel('Category')\n",
    "plt.legend(bbox_to_anchor=(1.0,1.0))"
   ]
  },
  {
   "cell_type": "code",
   "execution_count": 23,
   "metadata": {},
   "outputs": [
    {
     "data": {
      "text/plain": [
       "<matplotlib.legend.Legend at 0x7feae005d190>"
      ]
     },
     "execution_count": 23,
     "metadata": {},
     "output_type": "execute_result"
    },
    {
     "data": {
      "image/png": "[encoded data removed]",
      "text/plain": [
       "<Figure size 432x288 with 1 Axes>"
      ]
     },
     "metadata": {
      "needs_background": "light"
     },
     "output_type": "display_data"
    }
   ],
   "source": [
    "plt.scatter(xtest[:,1], predictions, alpha=0.3, color='green', label='predictions')\n",
    "plt.scatter(xtest[:,1], ytest, alpha=0.3, color='red', label='real values')\n",
    "plt.xlabel('petal width')\n",
    "plt.ylabel('Category')\n",
    "plt.legend(bbox_to_anchor=(1.0,1.0))"
   ]
  },
  {
   "cell_type": "code",
   "execution_count": 24,
   "metadata": {},
   "outputs": [
    {
     "name": "stdout",
     "output_type": "stream",
     "text": [
      "Nuestra red neuronal tuvo 4 aciertos de un total de 30 predicciones\n",
      "Acertó en un 13.333333333333334%\n"
     ]
    }
   ],
   "source": [
    "aciertos = (predictions == ytest)\n",
    "print(\"Nuestra red neuronal tuvo {} aciertos de un total de {} predicciones\".format(aciertos.sum(), len(predictions)))\n",
    "print(\"Acertó en un {}%\".format(aciertos.sum()/len(predictions)*100))"
   ]
  },
  {
   "cell_type": "markdown",
   "metadata": {},
   "source": [
    "## Referencias:\n",
    "\n",
    "- Nielsen, M. A. (2015). Neural networks and deep learning (Vol. 25). San Francisco, CA: Determination press.\n",
    "- https://kevinbinz.com/2019/05/26/intro-gradient-descent/\n",
    "- https://mlfromscratch.com/activation-functions-explained/#/\n",
    "- https://towardsdatascience.com/a-visual-explanation-of-gradient-descent-methods-momentum-adagrad-rmsprop-adam-f898b102325c\n",
    "- https://keras.io/"
   ]
  }
 ],
 "metadata": {
  "kernelspec": {
   "display_name": "Python 3 (ipykernel)",
   "language": "python",
   "name": "python3"
  },
  "language_info": {
   "codemirror_mode": {
    "name": "ipython",
    "version": 3
   },
   "file_extension": ".py",
   "mimetype": "text/x-python",
   "name": "python",
   "nbconvert_exporter": "python",
   "pygments_lexer": "ipython3",
   "version": "3.8.2"
  }
 },
 "nbformat": 4,
 "nbformat_minor": 4
}
