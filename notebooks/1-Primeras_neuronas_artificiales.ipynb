{
 "cells": [
  {
   "cell_type": "markdown",
   "metadata": {},
   "source": [
    "# ML Basics I: Redes neuronas artificiales\n",
    "\n",
    "![](https://raw.githubusercontent.com/igomezv/MACS_2021_ML_basics_neural_networks/main/figures/timeline.png)\n",
    "\n",
    "\n",
    "## 1943. Modelo lógico para una neurona de McCulloch-Pitts \n",
    "\n",
    "![](https://images.computerhistory.org/timeline/timeline_computers_1939.hewlettpackard.jpg)\n",
    "\n",
    "![](https://raw.githubusercontent.com/igomezv/MACS_2021_neural_networks/main/figures/ANN.png)\n",
    "\n",
    "Compuertas lógicas: \n",
    "\n",
    "![](https://raw.githubusercontent.com/igomezv/MACS_2021_ML_basics_neural_networks/main/figures/compuertas.png)"
   ]
  },
  {
   "cell_type": "code",
   "execution_count": 1,
   "metadata": {},
   "outputs": [],
   "source": [
    "import numpy as np\n",
    "import pandas as pd\n",
    "import matplotlib.pyplot as plt\n",
    "import seaborn as sns"
   ]
  },
  {
   "cell_type": "code",
   "execution_count": 2,
   "metadata": {},
   "outputs": [],
   "source": [
    "def fn_activacion(mensaje, pesos, umbral):    \n",
    "    x = mensaje\n",
    "    sum_ = np.inner(pesos, x)\n",
    "\n",
    "    if sum_ >= umbral:\n",
    "        return 1\n",
    "    else:\n",
    "        return 0\n",
    "\n",
    "def neurona(senal_entrada, etiquetas_entrada, \n",
    "            etiqueta_salida, pesos = [1,1], umbral = 1):\n",
    "    pesos = np.array(pesos)\n",
    "    umbral = umbral\n",
    "        \n",
    "    tabla_logica = pd.DataFrame(senal_entrada, columns = etiquetas_entrada)\n",
    "    senal_salida = []\n",
    "    \n",
    "    for senal in senal_entrada:\n",
    "        signal = fn_activacion(senal, pesos, umbral)\n",
    "        senal_salida.append(signal)\n",
    "            \n",
    "    tabla_logica[etiqueta_salida] = pd.Series(senal_salida)\n",
    "    \n",
    "    return tabla_logica"
   ]
  },
  {
   "cell_type": "code",
   "execution_count": 3,
   "metadata": {},
   "outputs": [
    {
     "name": "stdout",
     "output_type": "stream",
     "text": [
      "   x1  x2  y\n",
      "0   0   0  0\n",
      "1   0   1  1\n",
      "2   1   0  1\n",
      "3   1   1  1\n"
     ]
    }
   ],
   "source": [
    "entradas = np.array([[0,0], [0,1], [1,0], [1,1]])\n",
    "etiquetas_in = ['x1', 'x2']\n",
    "etiquetas_out = 'y'\n",
    "\n",
    "OR = neurona(entradas, etiquetas_in, etiquetas_out, pesos = [1,1], umbral = 1)\n",
    "\n",
    "print(OR)"
   ]
  },
  {
   "cell_type": "code",
   "execution_count": 4,
   "metadata": {},
   "outputs": [
    {
     "name": "stdout",
     "output_type": "stream",
     "text": [
      "   x1  x2  y\n",
      "0   0   0  1\n",
      "1   0   1  1\n",
      "2   1   0  1\n",
      "3   1   1  0\n"
     ]
    }
   ],
   "source": [
    "entradas = np.array([[0,0], [0,1], [1,0], [1,1]])\n",
    "etiquetas_in = ['x1', 'x2']\n",
    "etiquetas_out = 'y'\n",
    "\n",
    "NAND = neurona(entradas, etiquetas_in, etiquetas_out, pesos = [-1,-1], umbral = -1)\n",
    "\n",
    "print(NAND)"
   ]
  },
  {
   "cell_type": "code",
   "execution_count": 5,
   "metadata": {},
   "outputs": [
    {
     "name": "stdout",
     "output_type": "stream",
     "text": [
      "   x1  x2  y\n",
      "0   0   0  1\n",
      "1   0   1  0\n",
      "2   1   0  0\n",
      "3   1   1  0\n"
     ]
    }
   ],
   "source": [
    "entradas = np.array([[0,0], [0,1], [1,0], [1,1]])\n",
    "etiquetas_in = ['x1', 'x2']\n",
    "etiquetas_out = 'y'\n",
    "\n",
    "NOR = neurona(entradas, etiquetas_in, etiquetas_out, pesos = [-1,-1], umbral = 0)\n",
    "\n",
    "print(NOR)"
   ]
  },
  {
   "cell_type": "markdown",
   "metadata": {},
   "source": [
    "### -> Ejercicio 1 (opcional)\n",
    "\n",
    "Encuentra la configuración correcta del modelo neuronal de McCulloch-Pitts para las copuertas lógicas XNOR y AND"
   ]
  },
  {
   "cell_type": "markdown",
   "metadata": {},
   "source": [
    "# 1957 Perceptron\n",
    "\n",
    "![](https://news.cornell.edu/sites/default/files/styles/story_thumbnail_xlarge/public/2019-09/0925_rosenblatt_main.jpg?itok=SE0aS7ds)\n",
    "\n",
    "![](https://raw.githubusercontent.com/igomezv/MACS_2021_neural_networks/main/figures/perceptron_rule.png)"
   ]
  },
  {
   "cell_type": "code",
   "execution_count": 6,
   "metadata": {},
   "outputs": [],
   "source": [
    "class Perceptron:\n",
    "    def __init__(self, alpha = 0.01, umbral = 0, intercepto = True, epocas = 10):\n",
    "        self.alpha = alpha\n",
    "        self.umbral = umbral\n",
    "        self.intercepto = intercepto\n",
    "        self.epocas = epocas\n",
    "        \n",
    "        \n",
    "    def aprender(self, X, y):\n",
    "        \"\"\"\n",
    "        Algoritnmo de aprendizaje del Perceptron para aprender los pesos del clasificador.\n",
    "        \n",
    "        Parametros\n",
    "        ----------\n",
    "        X : array-like, shape = [N, m]\n",
    "            Entradas de entrenamiento.\n",
    "        y : array-like, shape = [N, 1]\n",
    "            Etiquetas de entrenamiento.\n",
    "        \"\"\"\n",
    "        \n",
    "        N = X.shape[0]\n",
    "        \n",
    "        if self.intercepto:\n",
    "            X = np.concatenate((np.ones([N,1]), X), axis = 1)\n",
    "            \n",
    "        m = X.shape[1]\n",
    "        \n",
    "        self.w_ = self.inicializar(m)\n",
    "        self.errores_ = []\n",
    "        \n",
    "        for _ in range(self.epocas):\n",
    "            errores = 0\n",
    "            \n",
    "            for x_n, y_n in zip(X,y):\n",
    "                x_n = x_n.reshape((m, 1))\n",
    "                update = self.alpha*(y_n - self.predecir(x_n))*x_n\n",
    "                self.w_ += update\n",
    "                errores += np.sum(update != 0.0)/(m)\n",
    "                \n",
    "            self.errores_.append(errores)\n",
    "            \n",
    "   \n",
    "    \n",
    "    def inicializar(self, m):\n",
    "        \"\"\"Inicializar vector con pesos igual a cero\"\"\"\n",
    "        return np.zeros([m, 1])\n",
    "    \n",
    "    \n",
    "    def predecir(self, x):\n",
    "            \"\"\"Función de activación Heaviside\"\"\"\n",
    "            return np.where(np.dot(self.w_.T, x) >= self.umbral, 1, -1)"
   ]
  },
  {
   "cell_type": "code",
   "execution_count": 7,
   "metadata": {},
   "outputs": [
    {
     "data": {
      "image/png": "[encoded data removed]",
      "text/plain": [
       "<Figure size 432x288 with 1 Axes>"
      ]
     },
     "metadata": {
      "needs_background": "light"
     },
     "output_type": "display_data"
    }
   ],
   "source": [
    "OR = np.array([[0,0,0], [0,1,1], [1,0,1], [1,1,1]])\n",
    "\n",
    "OR_pcptrn = Perceptron(alpha=0.1, umbral=0.5, intercepto = False, epocas=10)\n",
    "OR_pcptrn.aprender(X = OR[:,0:2], y = OR[:,2:])\n",
    "\n",
    "# OR Gate Decision Boundery\n",
    "plt.scatter(OR[1:,0], OR[1:,1], color='black', marker = 'o')\n",
    "plt.scatter(OR[0,0], OR[0,1], color='white', edgecolor = 'black', marker='o')\n",
    "\n",
    "xx = np.linspace(0.0, 0.5)\n",
    "w = OR_pcptrn.w_\n",
    "a = 0.5\n",
    "b = -w[0]/w[1]\n",
    "yy = a + b*xx\n",
    "\n",
    "plt.plot(xx, yy, '--', color = 'black')\n",
    "\n",
    "plt.show()\n"
   ]
  },
  {
   "cell_type": "code",
   "execution_count": 8,
   "metadata": {
    "scrolled": true
   },
   "outputs": [
    {
     "data": {
      "image/png": "[encoded data removed]",
      "text/plain": [
       "<Figure size 432x288 with 1 Axes>"
      ]
     },
     "metadata": {
      "needs_background": "light"
     },
     "output_type": "display_data"
    }
   ],
   "source": [
    "AND = np.array([[0,0,0], [0,1,0], [1,0,0], [1,1,1]])\n",
    "\n",
    "AND_pcptrn = Perceptron(alpha=0.1, umbral=1.5, intercepto = False, epocas=10)\n",
    "AND_pcptrn.aprender(X = AND[:,0:2], y = AND[:,2:])\n",
    "\n",
    "# OR Gate Decision Boundery\n",
    "plt.scatter(AND[3,0], AND[3,1], color='black', marker = 'o')\n",
    "plt.scatter(AND[:3,0], AND[:3,1], color='white', edgecolor = 'black', marker='o')\n",
    "\n",
    "xx = np.linspace(0.5, 1)\n",
    "w = AND_pcptrn.w_\n",
    "a = 1.5\n",
    "b = -w[0]/w[1]\n",
    "yy = a + b*xx\n",
    "\n",
    "plt.plot(xx, yy, '--', color = 'black')\n",
    "\n",
    "plt.show()"
   ]
  },
  {
   "cell_type": "markdown",
   "metadata": {},
   "source": [
    "## Clasificación de objetos astronómicos del SDSS DR14"
   ]
  },
  {
   "cell_type": "code",
   "execution_count": 9,
   "metadata": {},
   "outputs": [
    {
     "data": {
      "text/html": [
       "<div>\n",
       "<style scoped>\n",
       "    .dataframe tbody tr th:only-of-type {\n",
       "        vertical-align: middle;\n",
       "    }\n",
       "\n",
       "    .dataframe tbody tr th {\n",
       "        vertical-align: top;\n",
       "    }\n",
       "\n",
       "    .dataframe thead th {\n",
       "        text-align: right;\n",
       "    }\n",
       "</style>\n",
       "<table border=\"1\" class=\"dataframe\">\n",
       "  <thead>\n",
       "    <tr style=\"text-align: right;\">\n",
       "      <th></th>\n",
       "      <th>#sepallength</th>\n",
       "      <th>sepalwidth</th>\n",
       "      <th>petallength</th>\n",
       "      <th>petalwidth</th>\n",
       "    </tr>\n",
       "  </thead>\n",
       "  <tbody>\n",
       "    <tr>\n",
       "      <th>5.1</th>\n",
       "      <td>3.5</td>\n",
       "      <td>1.4</td>\n",
       "      <td>0.2</td>\n",
       "      <td>Iris-setosa</td>\n",
       "    </tr>\n",
       "    <tr>\n",
       "      <th>4.9</th>\n",
       "      <td>3.0</td>\n",
       "      <td>1.4</td>\n",
       "      <td>0.2</td>\n",
       "      <td>Iris-setosa</td>\n",
       "    </tr>\n",
       "    <tr>\n",
       "      <th>4.7</th>\n",
       "      <td>3.2</td>\n",
       "      <td>1.3</td>\n",
       "      <td>0.2</td>\n",
       "      <td>Iris-setosa</td>\n",
       "    </tr>\n",
       "    <tr>\n",
       "      <th>4.6</th>\n",
       "      <td>3.1</td>\n",
       "      <td>1.5</td>\n",
       "      <td>0.2</td>\n",
       "      <td>Iris-setosa</td>\n",
       "    </tr>\n",
       "    <tr>\n",
       "      <th>5.0</th>\n",
       "      <td>3.6</td>\n",
       "      <td>1.4</td>\n",
       "      <td>0.2</td>\n",
       "      <td>Iris-setosa</td>\n",
       "    </tr>\n",
       "  </tbody>\n",
       "</table>\n",
       "</div>"
      ],
      "text/plain": [
       "     #sepallength  sepalwidth  petallength   petalwidth\n",
       "5.1           3.5         1.4          0.2  Iris-setosa\n",
       "4.9           3.0         1.4          0.2  Iris-setosa\n",
       "4.7           3.2         1.3          0.2  Iris-setosa\n",
       "4.6           3.1         1.5          0.2  Iris-setosa\n",
       "5.0           3.6         1.4          0.2  Iris-setosa"
      ]
     },
     "execution_count": 9,
     "metadata": {},
     "output_type": "execute_result"
    }
   ],
   "source": [
    "data_iris = pd.read_csv('https://raw.githubusercontent.com/igomezv/DLCIMATAGS/main/data/iris/iris.data')\n",
    "data_iris.head()"
   ]
  },
  {
   "cell_type": "code",
   "execution_count": 10,
   "metadata": {},
   "outputs": [
    {
     "ename": "ValueError",
     "evalue": "Could not interpret value `sepallength` for parameter `x`",
     "output_type": "error",
     "traceback": [
      "\u001b[0;31m---------------------------------------------------------------------------\u001b[0m",
      "\u001b[0;31mValueError\u001b[0m                                Traceback (most recent call last)",
      "\u001b[0;32m/tmp/ipykernel_35830/1678507794.py\u001b[0m in \u001b[0;36m<module>\u001b[0;34m\u001b[0m\n\u001b[0;32m----> 1\u001b[0;31m \u001b[0msns\u001b[0m\u001b[0;34m.\u001b[0m\u001b[0mscatterplot\u001b[0m\u001b[0;34m(\u001b[0m\u001b[0mx\u001b[0m\u001b[0;34m=\u001b[0m\u001b[0;34m\"sepallength\"\u001b[0m\u001b[0;34m,\u001b[0m \u001b[0my\u001b[0m\u001b[0;34m=\u001b[0m\u001b[0;34m\"petallength\"\u001b[0m\u001b[0;34m,\u001b[0m \u001b[0mdata\u001b[0m\u001b[0;34m=\u001b[0m\u001b[0mdata_iris\u001b[0m\u001b[0;34m,\u001b[0m \u001b[0mhue\u001b[0m\u001b[0;34m=\u001b[0m\u001b[0;34m\"class\"\u001b[0m\u001b[0;34m)\u001b[0m\u001b[0;34m\u001b[0m\u001b[0;34m\u001b[0m\u001b[0m\n\u001b[0m",
      "\u001b[0;32m~/anaconda3/lib/python3.8/site-packages/seaborn/_decorators.py\u001b[0m in \u001b[0;36minner_f\u001b[0;34m(*args, **kwargs)\u001b[0m\n\u001b[1;32m     44\u001b[0m             )\n\u001b[1;32m     45\u001b[0m         \u001b[0mkwargs\u001b[0m\u001b[0;34m.\u001b[0m\u001b[0mupdate\u001b[0m\u001b[0;34m(\u001b[0m\u001b[0;34m{\u001b[0m\u001b[0mk\u001b[0m\u001b[0;34m:\u001b[0m \u001b[0marg\u001b[0m \u001b[0;32mfor\u001b[0m \u001b[0mk\u001b[0m\u001b[0;34m,\u001b[0m \u001b[0marg\u001b[0m \u001b[0;32min\u001b[0m \u001b[0mzip\u001b[0m\u001b[0;34m(\u001b[0m\u001b[0msig\u001b[0m\u001b[0;34m.\u001b[0m\u001b[0mparameters\u001b[0m\u001b[0;34m,\u001b[0m \u001b[0margs\u001b[0m\u001b[0;34m)\u001b[0m\u001b[0;34m}\u001b[0m\u001b[0;34m)\u001b[0m\u001b[0;34m\u001b[0m\u001b[0;34m\u001b[0m\u001b[0m\n\u001b[0;32m---> 46\u001b[0;31m         \u001b[0;32mreturn\u001b[0m \u001b[0mf\u001b[0m\u001b[0;34m(\u001b[0m\u001b[0;34m**\u001b[0m\u001b[0mkwargs\u001b[0m\u001b[0;34m)\u001b[0m\u001b[0;34m\u001b[0m\u001b[0;34m\u001b[0m\u001b[0m\n\u001b[0m\u001b[1;32m     47\u001b[0m     \u001b[0;32mreturn\u001b[0m \u001b[0minner_f\u001b[0m\u001b[0;34m\u001b[0m\u001b[0;34m\u001b[0m\u001b[0m\n\u001b[1;32m     48\u001b[0m \u001b[0;34m\u001b[0m\u001b[0m\n",
      "\u001b[0;32m~/anaconda3/lib/python3.8/site-packages/seaborn/relational.py\u001b[0m in \u001b[0;36mscatterplot\u001b[0;34m(x, y, hue, style, size, data, palette, hue_order, hue_norm, sizes, size_order, size_norm, markers, style_order, x_bins, y_bins, units, estimator, ci, n_boot, alpha, x_jitter, y_jitter, legend, ax, **kwargs)\u001b[0m\n\u001b[1;32m    806\u001b[0m \u001b[0;34m\u001b[0m\u001b[0m\n\u001b[1;32m    807\u001b[0m     \u001b[0mvariables\u001b[0m \u001b[0;34m=\u001b[0m \u001b[0m_ScatterPlotter\u001b[0m\u001b[0;34m.\u001b[0m\u001b[0mget_semantics\u001b[0m\u001b[0;34m(\u001b[0m\u001b[0mlocals\u001b[0m\u001b[0;34m(\u001b[0m\u001b[0;34m)\u001b[0m\u001b[0;34m)\u001b[0m\u001b[0;34m\u001b[0m\u001b[0;34m\u001b[0m\u001b[0m\n\u001b[0;32m--> 808\u001b[0;31m     p = _ScatterPlotter(\n\u001b[0m\u001b[1;32m    809\u001b[0m         \u001b[0mdata\u001b[0m\u001b[0;34m=\u001b[0m\u001b[0mdata\u001b[0m\u001b[0;34m,\u001b[0m \u001b[0mvariables\u001b[0m\u001b[0;34m=\u001b[0m\u001b[0mvariables\u001b[0m\u001b[0;34m,\u001b[0m\u001b[0;34m\u001b[0m\u001b[0;34m\u001b[0m\u001b[0m\n\u001b[1;32m    810\u001b[0m         \u001b[0mx_bins\u001b[0m\u001b[0;34m=\u001b[0m\u001b[0mx_bins\u001b[0m\u001b[0;34m,\u001b[0m \u001b[0my_bins\u001b[0m\u001b[0;34m=\u001b[0m\u001b[0my_bins\u001b[0m\u001b[0;34m,\u001b[0m\u001b[0;34m\u001b[0m\u001b[0;34m\u001b[0m\u001b[0m\n",
      "\u001b[0;32m~/anaconda3/lib/python3.8/site-packages/seaborn/relational.py\u001b[0m in \u001b[0;36m__init__\u001b[0;34m(self, data, variables, x_bins, y_bins, estimator, ci, n_boot, alpha, x_jitter, y_jitter, legend)\u001b[0m\n\u001b[1;32m    585\u001b[0m         )\n\u001b[1;32m    586\u001b[0m \u001b[0;34m\u001b[0m\u001b[0m\n\u001b[0;32m--> 587\u001b[0;31m         \u001b[0msuper\u001b[0m\u001b[0;34m(\u001b[0m\u001b[0;34m)\u001b[0m\u001b[0;34m.\u001b[0m\u001b[0m__init__\u001b[0m\u001b[0;34m(\u001b[0m\u001b[0mdata\u001b[0m\u001b[0;34m=\u001b[0m\u001b[0mdata\u001b[0m\u001b[0;34m,\u001b[0m \u001b[0mvariables\u001b[0m\u001b[0;34m=\u001b[0m\u001b[0mvariables\u001b[0m\u001b[0;34m)\u001b[0m\u001b[0;34m\u001b[0m\u001b[0;34m\u001b[0m\u001b[0m\n\u001b[0m\u001b[1;32m    588\u001b[0m \u001b[0;34m\u001b[0m\u001b[0m\n\u001b[1;32m    589\u001b[0m         \u001b[0mself\u001b[0m\u001b[0;34m.\u001b[0m\u001b[0malpha\u001b[0m \u001b[0;34m=\u001b[0m \u001b[0malpha\u001b[0m\u001b[0;34m\u001b[0m\u001b[0;34m\u001b[0m\u001b[0m\n",
      "\u001b[0;32m~/anaconda3/lib/python3.8/site-packages/seaborn/_core.py\u001b[0m in \u001b[0;36m__init__\u001b[0;34m(self, data, variables)\u001b[0m\n\u001b[1;32m    603\u001b[0m     \u001b[0;32mdef\u001b[0m \u001b[0m__init__\u001b[0m\u001b[0;34m(\u001b[0m\u001b[0mself\u001b[0m\u001b[0;34m,\u001b[0m \u001b[0mdata\u001b[0m\u001b[0;34m=\u001b[0m\u001b[0;32mNone\u001b[0m\u001b[0;34m,\u001b[0m \u001b[0mvariables\u001b[0m\u001b[0;34m=\u001b[0m\u001b[0;34m{\u001b[0m\u001b[0;34m}\u001b[0m\u001b[0;34m)\u001b[0m\u001b[0;34m:\u001b[0m\u001b[0;34m\u001b[0m\u001b[0;34m\u001b[0m\u001b[0m\n\u001b[1;32m    604\u001b[0m \u001b[0;34m\u001b[0m\u001b[0m\n\u001b[0;32m--> 605\u001b[0;31m         \u001b[0mself\u001b[0m\u001b[0;34m.\u001b[0m\u001b[0massign_variables\u001b[0m\u001b[0;34m(\u001b[0m\u001b[0mdata\u001b[0m\u001b[0;34m,\u001b[0m \u001b[0mvariables\u001b[0m\u001b[0;34m)\u001b[0m\u001b[0;34m\u001b[0m\u001b[0;34m\u001b[0m\u001b[0m\n\u001b[0m\u001b[1;32m    606\u001b[0m \u001b[0;34m\u001b[0m\u001b[0m\n\u001b[1;32m    607\u001b[0m         \u001b[0;32mfor\u001b[0m \u001b[0mvar\u001b[0m\u001b[0;34m,\u001b[0m \u001b[0mcls\u001b[0m \u001b[0;32min\u001b[0m \u001b[0mself\u001b[0m\u001b[0;34m.\u001b[0m\u001b[0m_semantic_mappings\u001b[0m\u001b[0;34m.\u001b[0m\u001b[0mitems\u001b[0m\u001b[0;34m(\u001b[0m\u001b[0;34m)\u001b[0m\u001b[0;34m:\u001b[0m\u001b[0;34m\u001b[0m\u001b[0;34m\u001b[0m\u001b[0m\n",
      "\u001b[0;32m~/anaconda3/lib/python3.8/site-packages/seaborn/_core.py\u001b[0m in \u001b[0;36massign_variables\u001b[0;34m(self, data, variables)\u001b[0m\n\u001b[1;32m    666\u001b[0m         \u001b[0;32melse\u001b[0m\u001b[0;34m:\u001b[0m\u001b[0;34m\u001b[0m\u001b[0;34m\u001b[0m\u001b[0m\n\u001b[1;32m    667\u001b[0m             \u001b[0mself\u001b[0m\u001b[0;34m.\u001b[0m\u001b[0minput_format\u001b[0m \u001b[0;34m=\u001b[0m \u001b[0;34m\"long\"\u001b[0m\u001b[0;34m\u001b[0m\u001b[0;34m\u001b[0m\u001b[0m\n\u001b[0;32m--> 668\u001b[0;31m             plot_data, variables = self._assign_variables_longform(\n\u001b[0m\u001b[1;32m    669\u001b[0m                 \u001b[0mdata\u001b[0m\u001b[0;34m,\u001b[0m \u001b[0;34m**\u001b[0m\u001b[0mvariables\u001b[0m\u001b[0;34m,\u001b[0m\u001b[0;34m\u001b[0m\u001b[0;34m\u001b[0m\u001b[0m\n\u001b[1;32m    670\u001b[0m             )\n",
      "\u001b[0;32m~/anaconda3/lib/python3.8/site-packages/seaborn/_core.py\u001b[0m in \u001b[0;36m_assign_variables_longform\u001b[0;34m(self, data, **kwargs)\u001b[0m\n\u001b[1;32m    901\u001b[0m \u001b[0;34m\u001b[0m\u001b[0m\n\u001b[1;32m    902\u001b[0m                 \u001b[0merr\u001b[0m \u001b[0;34m=\u001b[0m \u001b[0;34mf\"Could not interpret value `{val}` for parameter `{key}`\"\u001b[0m\u001b[0;34m\u001b[0m\u001b[0;34m\u001b[0m\u001b[0m\n\u001b[0;32m--> 903\u001b[0;31m                 \u001b[0;32mraise\u001b[0m \u001b[0mValueError\u001b[0m\u001b[0;34m(\u001b[0m\u001b[0merr\u001b[0m\u001b[0;34m)\u001b[0m\u001b[0;34m\u001b[0m\u001b[0;34m\u001b[0m\u001b[0m\n\u001b[0m\u001b[1;32m    904\u001b[0m \u001b[0;34m\u001b[0m\u001b[0m\n\u001b[1;32m    905\u001b[0m             \u001b[0;32melse\u001b[0m\u001b[0;34m:\u001b[0m\u001b[0;34m\u001b[0m\u001b[0;34m\u001b[0m\u001b[0m\n",
      "\u001b[0;31mValueError\u001b[0m: Could not interpret value `sepallength` for parameter `x`"
     ]
    }
   ],
   "source": [
    "sns.scatterplot(x=\"sepallength\", y=\"petallength\", data=data_iris, hue=\"class\")"
   ]
  },
  {
   "cell_type": "code",
   "execution_count": null,
   "metadata": {},
   "outputs": [],
   "source": [
    "y = data_dr14.iloc[:, 3].values\n",
    "#GALAXY, QSO, STAR\n",
    "y = np.where(y == 'STAR', -1, 1)\n",
    "X = data_dr14.iloc[:, [0,2]].values\n",
    "\n",
    "y = y[:500]\n",
    "X = X[:500, :]\n",
    "# data visualisation\n",
    "color= ['red' if l == -1 else 'green' for l in y]\n",
    "plt.scatter(X[:, 0], np.log(X[:, 1]), marker='o', color=color)\n",
    "# plt.ylabel(y)\n",
    "\n",
    "plt.xlabel('RA')\n",
    "# plt.ylabel('DEC')\n",
    "plt.ylabel('redshift')\n",
    "\n",
    "plt.show()\n",
    "np.shape(X), np.shape(y)"
   ]
  },
  {
   "cell_type": "code",
   "execution_count": null,
   "metadata": {},
   "outputs": [],
   "source": [
    "# initialise parameters for the Perceptron\n",
    "perceptron = Perceptron(alpha = 1e-5, epocas = 100)\n",
    "# learn weights\n",
    "perceptron.aprender(X,y)"
   ]
  },
  {
   "cell_type": "code",
   "execution_count": null,
   "metadata": {
    "scrolled": true
   },
   "outputs": [],
   "source": [
    "# plot decision boundary\n",
    "# data visualisation\n",
    "color= ['red' if l == -1 else 'green' for l in y]\n",
    "\n",
    "plt.scatter(X[:, 0], np.log(X[:, 1]), marker='o', color=color)\n",
    "# plt.ylabel(y)\n",
    "plt.xlabel('RA')\n",
    "# plt.ylabel('DEC')\n",
    "plt.ylabel('redshift')\n",
    "\n",
    "xx = np.linspace(min(X[:,0]), max(X[:,0]))\n",
    "w = perceptron.w_\n",
    "\n",
    "a = -w[0]/w[2]\n",
    "b = -w[1]/w[2]\n",
    "\n",
    "yy = a + b*xx\n",
    "\n",
    "plt.plot(xx, yy, '--', color = 'black')\n",
    "\n",
    "plt.show()"
   ]
  },
  {
   "cell_type": "markdown",
   "metadata": {},
   "source": [
    "### Analizar cuántos aciertos tiene el modelo"
   ]
  },
  {
   "cell_type": "code",
   "execution_count": null,
   "metadata": {},
   "outputs": [],
   "source": [
    "plt.plot(range(1, len(perceptron.errores_) + 1), perceptron.errores_,marker='o')\n",
    "plt.xlabel('Epocas')\n",
    "plt.ylabel('Número de clasificaciones erróneas')\n",
    "plt.show()"
   ]
  },
  {
   "cell_type": "markdown",
   "metadata": {},
   "source": [
    "### -> Ejercicio 2 (opcional)\n",
    "\n",
    "Utiliza otro conjunto de datos que permita clasificación binaria y entrena al perceptrón para clasificar. "
   ]
  },
  {
   "cell_type": "markdown",
   "metadata": {},
   "source": [
    "## Referencias\n",
    "\n",
    "- McCulloch, W. S., & Pitts, W. (1943). A logical calculus of the ideas immanent in nervous activity. The bulletin of mathematical biophysics, 5(4), 115-133. \n",
    "\n",
    "- Rosenblatt, F. (1958). The perceptron: a probabilistic model for information storage and organization in the brain. Psychological review, 65(6), 386.\n",
    "\n",
    "- https://jontysinai.github.io/jekyll/update/2017/09/24/the-mcp-neuron.html\n",
    "\n",
    "- https://sebastianraschka.com/Articles/2015_singlelayer_neurons.html "
   ]
  }
 ],
 "metadata": {
  "kernelspec": {
   "display_name": "Python 3 (ipykernel)",
   "language": "python",
   "name": "python3"
  },
  "language_info": {
   "codemirror_mode": {
    "name": "ipython",
    "version": 3
   },
   "file_extension": ".py",
   "mimetype": "text/x-python",
   "name": "python",
   "nbconvert_exporter": "python",
   "pygments_lexer": "ipython3",
   "version": "3.8.8"
  }
 },
 "nbformat": 4,
 "nbformat_minor": 4
}
